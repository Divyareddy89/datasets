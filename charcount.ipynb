{
 "cells": [
  {
   "cell_type": "code",
   "execution_count": 3,
   "id": "ef577209-7293-498f-8ebf-b2067fba204f",
   "metadata": {},
   "outputs": [
    {
     "name": "stdout",
     "output_type": "stream",
     "text": [
      "3.141592653589793\n"
     ]
    }
   ],
   "source": [
    "import math\n",
    "print(math.pi)"
   ]
  },
  {
   "cell_type": "code",
   "execution_count": 22,
   "id": "184e9d51-4414-4db2-9736-1a5ee6fc3298",
   "metadata": {},
   "outputs": [
    {
     "name": "stdin",
     "output_type": "stream",
     "text": [
      "Enter a string Ganesha\n"
     ]
    },
    {
     "name": "stdout",
     "output_type": "stream",
     "text": [
      "{'G': 1, 'a': 2, 'n': 1, 'e': 1, 's': 1, 'h': 1}\n"
     ]
    }
   ],
   "source": [
    "d={}\n",
    "\n",
    "def charcount():\n",
    "    char=str(input(\"Enter a string\"))\n",
    "    for i in char:\n",
    "        if i in d:\n",
    "            d[i]+=1\n",
    "        else:\n",
    "            d[i]=1\n",
    "    print(d)\n",
    "charcount()\n",
    "\n",
    "   \n",
    "\n",
    "    "
   ]
  },
  {
   "cell_type": "code",
   "execution_count": 26,
   "id": "bc2b15e9-5255-4e7e-a4f1-8fb2dd296f61",
   "metadata": {},
   "outputs": [
    {
     "name": "stdin",
     "output_type": "stream",
     "text": [
      "Enter a sentence My favorite god is My Ganesha\n"
     ]
    },
    {
     "name": "stdout",
     "output_type": "stream",
     "text": [
      "{'My': 2, 'favorite': 1, 'god': 1, 'is': 1, 'Ganesha': 1}\n",
      "{'M': 2, 'y': 2, ' ': 5, 'f': 1, 'a': 3, 'v': 1, 'o': 2, 'r': 1, 'i': 2, 't': 1, 'e': 2, 'g': 1, 'd': 1, 's': 2, 'G': 1, 'n': 1, 'h': 1}\n"
     ]
    }
   ],
   "source": [
    "a={}\n",
    "d={}\n",
    "count=0\n",
    "def wordcount():\n",
    "    s=input(\"Enter a sentence\")\n",
    "    for i in s.split():\n",
    "        if i in a:\n",
    "            a[i]+=1 \n",
    "        else:\n",
    "            a[i]=1\n",
    "    print(a)\n",
    "    for i in s:\n",
    "        if i in d:\n",
    "            d[i]+=1\n",
    "        else:\n",
    "            d[i]=1\n",
    "    print(d)\n",
    "wordcount()\n"
   ]
  },
  {
   "cell_type": "code",
   "execution_count": null,
   "id": "c059ff75-f6e1-4a4a-8c8b-722f9eba5abe",
   "metadata": {},
   "outputs": [],
   "source": []
  }
 ],
 "metadata": {
  "kernelspec": {
   "display_name": "Python 3 (ipykernel)",
   "language": "python",
   "name": "python3"
  },
  "language_info": {
   "codemirror_mode": {
    "name": "ipython",
    "version": 3
   },
   "file_extension": ".py",
   "mimetype": "text/x-python",
   "name": "python",
   "nbconvert_exporter": "python",
   "pygments_lexer": "ipython3",
   "version": "3.9.7"
  }
 },
 "nbformat": 4,
 "nbformat_minor": 5
}
